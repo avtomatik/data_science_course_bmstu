{
 "cells": [
  {
   "cell_type": "markdown",
   "id": "de164b18",
   "metadata": {},
   "source": [
    "# Label Encoding"
   ]
  },
  {
   "cell_type": "code",
   "execution_count": null,
   "id": "ead03f03",
   "metadata": {},
   "outputs": [],
   "source": [
    "from sklearn import preprocessing"
   ]
  },
  {
   "cell_type": "markdown",
   "id": "f09e26e1",
   "metadata": {},
   "source": [
    "## Кодирование чисел"
   ]
  },
  {
   "cell_type": "markdown",
   "id": "9404736e",
   "metadata": {},
   "source": [
    "Инициализируем энкодер и передадим ему исследуемый набор данных"
   ]
  },
  {
   "cell_type": "code",
   "execution_count": null,
   "id": "8064d51a",
   "metadata": {},
   "outputs": [],
   "source": [
    "data = [88006009988, 88009009090, 88005554433]\n",
    "label_encoder = preprocessing.LabelEncoder()\n",
    "label_encoder.fit(data)"
   ]
  },
  {
   "cell_type": "code",
   "execution_count": null,
   "id": "eedbfa16",
   "metadata": {},
   "outputs": [],
   "source": [
    "label_encoder.classes_"
   ]
  },
  {
   "cell_type": "markdown",
   "id": "d5ec42a1",
   "metadata": {},
   "source": [
    "Трансформируем"
   ]
  },
  {
   "cell_type": "code",
   "execution_count": null,
   "id": "d26df722",
   "metadata": {},
   "outputs": [],
   "source": [
    "label_encoder.transform([88006009988, 88006009988, 88006009988, 88009009090, 88005554433])"
   ]
  },
  {
   "cell_type": "markdown",
   "id": "71998668",
   "metadata": {},
   "source": [
    "Можно преобразовать обратно"
   ]
  },
  {
   "cell_type": "code",
   "execution_count": null,
   "id": "2fce1471",
   "metadata": {},
   "outputs": [],
   "source": [
    "label_encoder.inverse_transform([1, 1, 1, 2, 0])"
   ]
  },
  {
   "cell_type": "markdown",
   "id": "b55b50a4",
   "metadata": {},
   "source": [
    "---"
   ]
  },
  {
   "cell_type": "markdown",
   "id": "08f49119",
   "metadata": {},
   "source": [
    "## Кодирование строк"
   ]
  },
  {
   "cell_type": "code",
   "execution_count": null,
   "id": "e0e6c4ad",
   "metadata": {},
   "outputs": [],
   "source": [
    "label_encoder = preprocessing.LabelEncoder()"
   ]
  },
  {
   "cell_type": "code",
   "execution_count": null,
   "id": "4be55aad",
   "metadata": {},
   "outputs": [],
   "source": [
    "label_encoder.fit([\"paris\", \"paris\", \"tokyo\", \"amsterdam\"])"
   ]
  },
  {
   "cell_type": "code",
   "execution_count": null,
   "id": "0af9d95a",
   "metadata": {},
   "outputs": [],
   "source": [
    "list(label_encoder.classes_)"
   ]
  },
  {
   "cell_type": "code",
   "execution_count": null,
   "id": "e203e60a",
   "metadata": {},
   "outputs": [],
   "source": [
    "label_encoder.transform([\"tokyo\", \"tokyo\", \"paris\"])"
   ]
  },
  {
   "cell_type": "code",
   "execution_count": null,
   "id": "c6358f47",
   "metadata": {},
   "outputs": [],
   "source": [
    "list(label_encoder.inverse_transform([2, 2, 1]))"
   ]
  },
  {
   "cell_type": "code",
   "execution_count": null,
   "id": "791025d3",
   "metadata": {},
   "outputs": [],
   "source": []
  },
  {
   "cell_type": "markdown",
   "id": "f2284437",
   "metadata": {},
   "source": [
    "---"
   ]
  },
  {
   "cell_type": "markdown",
   "id": "57bc8fdb",
   "metadata": {},
   "source": [
    "# One-hot encoding"
   ]
  },
  {
   "cell_type": "markdown",
   "id": "ca980341",
   "metadata": {},
   "source": [
    "Инициализируем энкодер и передадим ему исследуемый набор данных"
   ]
  },
  {
   "cell_type": "code",
   "execution_count": null,
   "id": "57fa96b2",
   "metadata": {},
   "outputs": [],
   "source": [
    "import sklearn.preprocessing as preprocessing\n",
    "import numpy as np\n",
    "import pandas as pd"
   ]
  },
  {
   "cell_type": "code",
   "execution_count": null,
   "id": "78b54460",
   "metadata": {},
   "outputs": [],
   "source": [
    "targets = np.array([\"red\", \"red\", \"green\", \"blue\", \"yellow\", \"pink\", \"white\"])"
   ]
  },
  {
   "cell_type": "code",
   "execution_count": null,
   "id": "0d1f8b41",
   "metadata": {},
   "outputs": [],
   "source": [
    "label_encoder = preprocessing.LabelEncoder()\n",
    "new_target = label_encoder.fit_transform(targets)"
   ]
  },
  {
   "cell_type": "code",
   "execution_count": null,
   "id": "723c450f",
   "metadata": {},
   "outputs": [],
   "source": [
    "new_target"
   ]
  },
  {
   "cell_type": "code",
   "execution_count": null,
   "id": "5a95cdac",
   "metadata": {},
   "outputs": [],
   "source": [
    "new_target.reshape(-1, 1)"
   ]
  },
  {
   "cell_type": "code",
   "execution_count": null,
   "id": "3649c00f",
   "metadata": {},
   "outputs": [],
   "source": [
    "one_hot_encoder = preprocessing.OneHotEncoder()\n",
    "\n",
    "one_hot_encoder.fit(new_target.reshape(-1, 1))\n",
    "\n",
    "targets_trans = one_hot_encoder.transform(new_target.reshape(-1, 1))"
   ]
  },
  {
   "cell_type": "code",
   "execution_count": null,
   "id": "ceb41e17",
   "metadata": {},
   "outputs": [],
   "source": [
    "print(\"The original data\")\n",
    "print(targets)\n",
    "print(\"The transform data using OneHotEncoder\")\n",
    "print(targets_trans.toarray())"
   ]
  },
  {
   "cell_type": "code",
   "execution_count": null,
   "id": "8fc8b33a",
   "metadata": {},
   "outputs": [],
   "source": []
  },
  {
   "cell_type": "code",
   "execution_count": null,
   "id": "a8c04d64",
   "metadata": {},
   "outputs": [],
   "source": []
  }
 ],
 "metadata": {
  "kernelspec": {
   "display_name": "Python 3 (ipykernel)",
   "language": "python",
   "name": "python3"
  },
  "language_info": {
   "codemirror_mode": {
    "name": "ipython",
    "version": 3
   },
   "file_extension": ".py",
   "mimetype": "text/x-python",
   "name": "python",
   "nbconvert_exporter": "python",
   "pygments_lexer": "ipython3",
   "version": "3.8.12"
  }
 },
 "nbformat": 4,
 "nbformat_minor": 5
}
