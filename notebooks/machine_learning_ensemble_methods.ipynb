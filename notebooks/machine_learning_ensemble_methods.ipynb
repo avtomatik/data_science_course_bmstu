{
 "cells": [
  {
   "cell_type": "markdown",
   "id": "ad4b8942",
   "metadata": {},
   "source": [
    "https://towardsdatascience.com/ensemble-methods-bagging-boosting-and-stacking-c9214a10a205"
   ]
  },
  {
   "cell_type": "markdown",
   "id": "e958e902",
   "metadata": {},
   "source": [
    "https://en.wikipedia.org/wiki/No_free_lunch_theorem"
   ]
  },
  {
   "cell_type": "markdown",
   "id": "c4040285",
   "metadata": {},
   "source": [
    "https://en.wikipedia.org/wiki/Ludmila_Kuncheva"
   ]
  },
  {
   "cell_type": "markdown",
   "id": "2278b4ef",
   "metadata": {},
   "source": [
    "PMML Format"
   ]
  },
  {
   "cell_type": "code",
   "execution_count": null,
   "id": "0c8d38b0",
   "metadata": {},
   "outputs": [],
   "source": [
    "from pathlib import Path\n",
    "\n",
    "import pandas as pd\n",
    "from sklearn.ensemble import BaggingClassifier\n",
    "from sklearn.neighbors import KNeighborsClassifier\n",
    "\n",
    "DATA_DIR = Path().resolve().parent.joinpath('data')"
   ]
  },
  {
   "cell_type": "code",
   "execution_count": null,
   "id": "9e817711",
   "metadata": {},
   "outputs": [],
   "source": [
    "# =============================================================================\n",
    "# https://www.kaggle.com/datasets/aayushkandpal/credit-card-details-australian-bank\n",
    "# ============================================================================="
   ]
  },
  {
   "cell_type": "code",
   "execution_count": null,
   "id": "68074f1f",
   "metadata": {},
   "outputs": [],
   "source": [
    "df = pd.read_csv(DATA_DIR.joinpath('external').joinpath('Credit_Card_Applications.csv'), index_col=0)"
   ]
  },
  {
   "cell_type": "code",
   "execution_count": 5,
   "id": "992b5134",
   "metadata": {},
   "outputs": [],
   "source": [
    "X = df.iloc[:, :-1]\n",
    "y = df.iloc[:, -1]"
   ]
  },
  {
   "cell_type": "code",
   "execution_count": null,
   "id": "a3642cbf",
   "metadata": {},
   "outputs": [],
   "source": [
    "import numpy as np\n",
    "X = np.array([[1., 0.], [2., 1.], [0., 0.]])\n",
    "y = np.array(range(3))\n",
    "\n",
    "from scipy.sparse import coo_matrix\n",
    "X_sparse = coo_matrix(X)\n",
    "\n",
    "from sklearn.utils import resample\n",
    "X, X_sparse, y = resample(X, X_sparse, y, random_state=0)\n",
    "X\n",
    "\n",
    "\n",
    "\n",
    "\n",
    "X_sparse\n",
    "\n",
    "\n",
    "\n",
    "X_sparse.toarray()\n",
    "\n",
    "\n",
    "\n",
    "\n",
    "y\n",
    "\n",
    "\n",
    "resample(y, n_samples=2, random_state=0)\n"
   ]
  },
  {
   "cell_type": "code",
   "execution_count": 1,
   "id": "140929d0",
   "metadata": {},
   "outputs": [
    {
     "data": {
      "text/plain": [
       "0.983"
      ]
     },
     "execution_count": 1,
     "metadata": {},
     "output_type": "execute_result"
    }
   ],
   "source": [
    "from sklearn.ensemble import AdaBoostClassifier\n",
    "from sklearn.datasets import make_classification\n",
    "X, y = make_classification(\n",
    "    n_samples=1000, n_features=4,\n",
    "    n_informative=2, n_redundant=0,\n",
    "    random_state=0, shuffle=False\n",
    ")\n",
    "clf = AdaBoostClassifier(n_estimators=100, random_state=0)\n",
    "clf.fit(X, y)\n",
    "\n",
    "clf.predict([[0, 0, 0, 0]])\n",
    "\n",
    "clf.score(X, y)\n"
   ]
  },
  {
   "cell_type": "code",
   "execution_count": null,
   "id": "2aa08bdc",
   "metadata": {},
   "outputs": [],
   "source": []
  }
 ],
 "metadata": {
  "kernelspec": {
   "display_name": "Python 3 (ipykernel)",
   "language": "python",
   "name": "python3"
  },
  "language_info": {
   "codemirror_mode": {
    "name": "ipython",
    "version": 3
   },
   "file_extension": ".py",
   "mimetype": "text/x-python",
   "name": "python",
   "nbconvert_exporter": "python",
   "pygments_lexer": "ipython3",
   "version": "3.11.4"
  }
 },
 "nbformat": 4,
 "nbformat_minor": 5
}
