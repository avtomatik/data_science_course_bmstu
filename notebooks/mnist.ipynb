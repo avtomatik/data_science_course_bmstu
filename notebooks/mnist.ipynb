{
  "cells": [
    {
      "cell_type": "code",
      "execution_count": 42,
      "metadata": {
        "id": "4mYfobc-UVuS"
      },
      "outputs": [],
      "source": [
        "import numpy as np\n",
        "from keras import layers\n",
        "from keras import models\n",
        "import tensorflow as tf\n"
      ]
    },
    {
      "cell_type": "code",
      "execution_count": 43,
      "metadata": {
        "id": "bs1jfL7wVLJO"
      },
      "outputs": [],
      "source": [
        "(X_train, y_train), (X_test, y_test) = tf.keras.datasets.mnist.load_data()"
      ]
    },
    {
      "cell_type": "code",
      "execution_count": 49,
      "metadata": {
        "colab": {
          "base_uri": "https://localhost:8080/"
        },
        "id": "7_9ShtLcV9lM",
        "outputId": "be37c4d2-8b7e-46af-f9f4-73201f4f55d8"
      },
      "outputs": [
        {
          "name": "stdout",
          "output_type": "stream",
          "text": [
            "|type = <class 'numpy.ndarray'>| shape = (60000, 28, 28)|\n",
            "|type = <class 'numpy.ndarray'>| shape = (60000,)|\n"
          ]
        }
      ],
      "source": [
        "# состав датасета\n",
        "print(f'|type = {type(X_train)}| shape = {X_train.shape}|')\n",
        "print(f'|type = {type(y_train)}| shape = {y_train.shape}|')\n"
      ]
    },
    {
      "cell_type": "code",
      "execution_count": null,
      "metadata": {
        "id": "We3G4alGXbUF"
      },
      "outputs": [],
      "source": [
        "# Нормализуем\n",
        "X_train = X_train / 255 - .5\n",
        "X_test = X_test / 255 - .5\n"
      ]
    },
    {
      "cell_type": "code",
      "execution_count": 46,
      "metadata": {
        "colab": {
          "base_uri": "https://localhost:8080/"
        },
        "id": "SzZY7HfsovK0",
        "outputId": "aeb80f21-4295-48cb-8eb3-fe2b1b6f2e2f"
      },
      "outputs": [
        {
          "data": {
            "text/plain": [
              "(28, 28)"
            ]
          },
          "execution_count": 46,
          "metadata": {},
          "output_type": "execute_result"
        }
      ],
      "source": [
        "# размерность отдельного изображения \n",
        "X_train[0].shape"
      ]
    },
    {
      "cell_type": "code",
      "execution_count": 47,
      "metadata": {
        "colab": {
          "base_uri": "https://localhost:8080/"
        },
        "id": "lCn07gImAxIF",
        "outputId": "826301e1-1bc7-42ea-8c5a-9e0e01b5366f"
      },
      "outputs": [
        {
          "name": "stdout",
          "output_type": "stream",
          "text": [
            "Model: \"sequential_4\"\n",
            "_________________________________________________________________\n",
            " Layer (type)                Output Shape              Param #   \n",
            "=================================================================\n",
            " flatten_4 (Flatten)         (None, 784)               0         \n",
            "                                                                 \n",
            " dense_12 (Dense)            (None, 64)                50240     \n",
            "                                                                 \n",
            " dense_13 (Dense)            (None, 31)                2015      \n",
            "                                                                 \n",
            " dense_14 (Dense)            (None, 10)                320       \n",
            "                                                                 \n",
            "=================================================================\n",
            "Total params: 52,575\n",
            "Trainable params: 52,575\n",
            "Non-trainable params: 0\n",
            "_________________________________________________________________\n"
          ]
        }
      ],
      "source": [
        "# Построим нейроесть из 3х Dense слоев (64,31,10)\n",
        "from keras.engine.sequential import Sequential\n",
        "model = Sequential()\n",
        "# входной слой в соответсвии с размерностью данных\n",
        "model.add(layers.Input(shape = X_train[0].shape))\n",
        "# преобразование входного слоя \n",
        "model.add(layers.Flatten())\n",
        "# 1 Dense слой 64 нейрона\n",
        "model.add(layers.Dense(64, activation='relu'))\n",
        "# 2 Dense слой 31 нейрон\n",
        "model.add(layers.Dense(31, activation = 'relu'))\n",
        "# 3 Dense слой 10 нейроно он же выходной, (10 цифр => 10 размерность выходного слоя)\n",
        "model.add(layers.Dense(10, activation='softmax'))\n",
        "\n",
        "model.compile(optimizer='adam', loss='categorical_crossentropy', metrics=['accuracy'])\n",
        "model.summary()"
      ]
    },
    {
      "cell_type": "code",
      "execution_count": null,
      "metadata": {
        "id": "kQXccHy4uzlV"
      },
      "outputs": [],
      "source": [
        "# 52,575 - это 52,575"
      ]
    },
    {
      "cell_type": "code",
      "execution_count": 39,
      "metadata": {
        "colab": {
          "base_uri": "https://localhost:8080/"
        },
        "id": "fZRxjtKbcajl",
        "outputId": "b51c8ad5-c5d1-4044-dc98-8a56e59a3c60"
      },
      "outputs": [
        {
          "name": "stdout",
          "output_type": "stream",
          "text": [
            "Epoch 1/20\n",
            "1875/1875 [==============================] - 13s 2ms/step - loss: 0.4023 - accuracy: 0.8814 - val_loss: 0.2499 - val_accuracy: 0.9251\n",
            "Epoch 2/20\n",
            "1875/1875 [==============================] - 4s 2ms/step - loss: 0.2285 - accuracy: 0.9323 - val_loss: 0.1792 - val_accuracy: 0.9470\n",
            "Epoch 3/20\n",
            "1875/1875 [==============================] - 3s 2ms/step - loss: 0.1747 - accuracy: 0.9467 - val_loss: 0.1703 - val_accuracy: 0.9467\n",
            "Epoch 4/20\n",
            "1875/1875 [==============================] - 3s 2ms/step - loss: 0.1480 - accuracy: 0.9550 - val_loss: 0.1823 - val_accuracy: 0.9447\n",
            "Epoch 5/20\n",
            "1875/1875 [==============================] - 4s 2ms/step - loss: 0.1283 - accuracy: 0.9607 - val_loss: 0.1323 - val_accuracy: 0.9595\n",
            "Epoch 6/20\n",
            "1875/1875 [==============================] - 3s 2ms/step - loss: 0.1164 - accuracy: 0.9638 - val_loss: 0.1290 - val_accuracy: 0.9601\n",
            "Epoch 7/20\n",
            "1875/1875 [==============================] - 3s 2ms/step - loss: 0.1058 - accuracy: 0.9668 - val_loss: 0.1147 - val_accuracy: 0.9651\n",
            "Epoch 8/20\n",
            "1875/1875 [==============================] - 3s 2ms/step - loss: 0.1007 - accuracy: 0.9680 - val_loss: 0.1223 - val_accuracy: 0.9645\n",
            "Epoch 9/20\n",
            "1875/1875 [==============================] - 4s 2ms/step - loss: 0.0916 - accuracy: 0.9706 - val_loss: 0.1139 - val_accuracy: 0.9650\n",
            "Epoch 10/20\n",
            "1875/1875 [==============================] - 4s 2ms/step - loss: 0.0858 - accuracy: 0.9729 - val_loss: 0.1155 - val_accuracy: 0.9666\n",
            "Epoch 11/20\n",
            "1875/1875 [==============================] - 4s 2ms/step - loss: 0.0810 - accuracy: 0.9744 - val_loss: 0.1145 - val_accuracy: 0.9666\n",
            "Epoch 12/20\n",
            "1875/1875 [==============================] - 4s 2ms/step - loss: 0.0765 - accuracy: 0.9752 - val_loss: 0.1152 - val_accuracy: 0.9675\n",
            "Epoch 13/20\n",
            "1875/1875 [==============================] - 5s 3ms/step - loss: 0.0720 - accuracy: 0.9763 - val_loss: 0.1233 - val_accuracy: 0.9637\n",
            "Epoch 14/20\n",
            "1875/1875 [==============================] - 4s 2ms/step - loss: 0.0694 - accuracy: 0.9773 - val_loss: 0.1589 - val_accuracy: 0.9542\n",
            "Epoch 15/20\n",
            "1875/1875 [==============================] - 4s 2ms/step - loss: 0.0650 - accuracy: 0.9790 - val_loss: 0.1359 - val_accuracy: 0.9647\n",
            "Epoch 16/20\n",
            "1875/1875 [==============================] - 4s 2ms/step - loss: 0.0614 - accuracy: 0.9797 - val_loss: 0.1265 - val_accuracy: 0.9671\n",
            "Epoch 17/20\n",
            "1875/1875 [==============================] - 4s 2ms/step - loss: 0.0597 - accuracy: 0.9801 - val_loss: 0.1159 - val_accuracy: 0.9680\n",
            "Epoch 18/20\n",
            "1875/1875 [==============================] - 4s 2ms/step - loss: 0.0599 - accuracy: 0.9800 - val_loss: 0.1242 - val_accuracy: 0.9666\n",
            "Epoch 19/20\n",
            "1875/1875 [==============================] - 4s 2ms/step - loss: 0.0526 - accuracy: 0.9827 - val_loss: 0.1192 - val_accuracy: 0.9697\n",
            "Epoch 20/20\n",
            "1875/1875 [==============================] - 3s 2ms/step - loss: 0.0530 - accuracy: 0.9820 - val_loss: 0.1388 - val_accuracy: 0.9643\n",
            "1/1 [==============================] - 0s 45ms/step\n"
          ]
        }
      ],
      "source": [
        "# обучим модель\n",
        "model.fit(X_train, tf.keras.utils.to_categorical(y_train), epochs = 20, \n",
        "          validation_data=(X_test, tf.keras.utils.to_categorical(y_test)))\n",
        "predictions = model.predict(X_test[:10])\n",
        "\n"
      ]
    },
    {
      "cell_type": "code",
      "execution_count": null,
      "metadata": {
        "id": "P7z2tJdTraC4"
      },
      "outputs": [],
      "source": [
        "# проверим точность\n",
        "import keras\n",
        "class_num = 10\n",
        "y_test = keras.utils.to_categorical(y_test, class_num)\n"
      ]
    },
    {
      "cell_type": "code",
      "execution_count": 41,
      "metadata": {
        "colab": {
          "base_uri": "https://localhost:8080/"
        },
        "id": "kDKqjEUgvdvH",
        "outputId": "c36b51cd-7dbf-4369-e052-35a7b2812a45"
      },
      "outputs": [
        {
          "name": "stdout",
          "output_type": "stream",
          "text": [
            "loss: 0.13879120349884033\n",
            "acc: 0.9642999768257141\n"
          ]
        }
      ],
      "source": [
        "score = model.evaluate(X_test, y_test, verbose=0)\n",
        "print('loss:', score[0])\n",
        "print('acc:', score[1])"
      ]
    }
  ],
  "metadata": {
    "colab": {
      "provenance": []
    },
    "kernelspec": {
      "display_name": "Python 3",
      "name": "python3"
    },
    "language_info": {
      "name": "python"
    }
  },
  "nbformat": 4,
  "nbformat_minor": 0
}
