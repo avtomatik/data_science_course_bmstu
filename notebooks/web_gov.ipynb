{
 "cells": [
  {
   "cell_type": "markdown",
   "id": "c2cd67a1",
   "metadata": {},
   "source": [
    "## Пример парсинга нескольких страниц сайта госзакупок"
   ]
  },
  {
   "cell_type": "markdown",
   "id": "1d488e1c",
   "metadata": {},
   "source": [
    "Места, которые можно доработать, отмечены комментариями, начинающимися с TODO"
   ]
  },
  {
   "cell_type": "markdown",
   "id": "21d3d8ca",
   "metadata": {},
   "source": [
    "!pip install bs4 requests"
   ]
  },
  {
   "cell_type": "code",
   "execution_count": null,
   "id": "37a58589",
   "metadata": {},
   "outputs": [],
   "source": [
    "import re\n",
    "import time\n",
    "\n",
    "from bs4 import BeautifulSoup\n",
    "import requests\n",
    "import pandas as pd\n",
    "import numpy as np"
   ]
  },
  {
   "cell_type": "markdown",
   "id": "31b6f202",
   "metadata": {},
   "source": [
    "https://zakupki.gov.ru/epz/order/extendedsearch/results.html?searchString=&morphology=on&search-filter=Дате+обновления&pageNumber=2&sortDirection=false&recordsPerPage=_10&showLotsInfoHidden=false&savedSearchSettingsIdHidden=&sortBy=UPDATE_DATE&fz44=on&fz223=on&af=on&ca=on&pc=on&pa=on&placingWayList=&selectedLaws=&priceFromGeneral=&priceFromGWS=&priceFromUnitGWS=&priceToGeneral=&priceToGWS=&priceToUnitGWS=&currencyIdGeneral=-1&publishDateFrom=&publishDateTo=&applSubmissionCloseDateFrom=&applSubmissionCloseDateTo=&customerIdOrg=&customerFz94id=&customerTitle=&okpd2Ids=&okpd2IdsCodes="
   ]
  },
  {
   "cell_type": "code",
   "execution_count": null,
   "id": "ca4724d0",
   "metadata": {},
   "outputs": [],
   "source": [
    "# Создаем список URL\n",
    "URL = r\"https://zakupki.gov.ru/epz/order/extendedsearch/results.html?\"\n",
    "\n",
    "# TODO: Изменить номера страниц\n",
    "FIRST_PAGE = 2\n",
    "LAST_PAGE = 4\n",
    "\n",
    "urls_list = [] # создаем пустой список\n",
    "for page in range(FIRST_PAGE, LAST_PAGE + 1): # перебираем страницы \n",
    "    \n",
    "    # TODO: Варьировать другие параметры, использовать все параметры\n",
    "    page_url = f'{URL}searchString=&morphology=on&search-filter=Дате+обновления&pageNumber={page}&sortDirection=false&recordsPerPage=_10&showLotsInfoHidden=false&savedSearchSettingsIdHidden=&sortBy=UPDATE_DATE&fz44=on&fz223=on&af=on&ca=on&pc=on&pa=on&placingWayList=&selectedLaws=&priceFromGeneral=&priceFromGWS=&priceFromUnitGWS=&priceToGeneral=&priceToGWS=&priceToUnitGWS=&currencyIdGeneral=-1&publishDateFrom=&publishDateTo=&applSubmissionCloseDateFrom=&applSubmissionCloseDateTo=&customerIdOrg=&customerFz94id=&customerTitle=&okpd2Ids=&okpd2IdsCodes='\n",
    "    urls_list.append(page_url) # записываем адреса в список\n",
    "    \n",
    "print('Длина полученного списка веб-страниц: {}'.format(len(urls_list)))\n",
    "print('Пример записанных в список страниц: {}'.format(urls_list))"
   ]
  },
  {
   "cell_type": "code",
   "execution_count": null,
   "id": "7f94f1cb",
   "metadata": {},
   "outputs": [],
   "source": [
    "type(urls_list[0])"
   ]
  },
  {
   "cell_type": "code",
   "execution_count": null,
   "id": "a3ae7362",
   "metadata": {},
   "outputs": [],
   "source": [
    "page = requests.get(urls_list[0]) # попробуем спарсить одну страницу\n",
    "print(page.status_code) # если 200, то успешно подключились к странице"
   ]
  },
  {
   "cell_type": "code",
   "execution_count": null,
   "id": "2622f600",
   "metadata": {},
   "outputs": [],
   "source": [
    "urls_list[0]"
   ]
  },
  {
   "cell_type": "code",
   "execution_count": null,
   "id": "4c34ce52",
   "metadata": {},
   "outputs": [],
   "source": [
    "requests.get(urls_list[1]) "
   ]
  },
  {
   "cell_type": "code",
   "execution_count": null,
   "id": "4a77b099",
   "metadata": {},
   "outputs": [],
   "source": [
    "page"
   ]
  },
  {
   "cell_type": "code",
   "execution_count": null,
   "id": "17496e47",
   "metadata": {},
   "outputs": [],
   "source": [
    "page.text"
   ]
  },
  {
   "cell_type": "code",
   "execution_count": null,
   "id": "611d0873",
   "metadata": {},
   "outputs": [],
   "source": [
    "type(page.text)"
   ]
  },
  {
   "cell_type": "code",
   "execution_count": null,
   "id": "88fec32d",
   "metadata": {
    "scrolled": true
   },
   "outputs": [],
   "source": [
    "soup = BeautifulSoup(page.text, \"html.parser\") # посмотрим как выглядит спарсенная страница\n",
    "soup"
   ]
  },
  {
   "cell_type": "code",
   "execution_count": null,
   "id": "4442ac40",
   "metadata": {},
   "outputs": [],
   "source": [
    "type(soup)"
   ]
  },
  {
   "cell_type": "code",
   "execution_count": null,
   "id": "92bdc622",
   "metadata": {},
   "outputs": [],
   "source": [
    "soup.find_all('div', class_='registry-entry__header-mid__number')"
   ]
  },
  {
   "cell_type": "code",
   "execution_count": null,
   "id": "08efb6e7",
   "metadata": {},
   "outputs": [],
   "source": [
    "soup.find_all('div', class_='registry-entry__header-mid__number')[0]"
   ]
  },
  {
   "cell_type": "code",
   "execution_count": null,
   "id": "8a5063f0",
   "metadata": {},
   "outputs": [],
   "source": [
    "soup.find_all('div', class_='registry-entry__header-mid__number')[0].text"
   ]
  },
  {
   "cell_type": "code",
   "execution_count": null,
   "id": "f60ee6c2",
   "metadata": {},
   "outputs": [],
   "source": []
  },
  {
   "cell_type": "code",
   "execution_count": null,
   "id": "f15aebf8",
   "metadata": {},
   "outputs": [],
   "source": [
    "%%time\n",
    "\n",
    "numbers_list = [] \n",
    "placements_dates_list = []\n",
    "update_dates_list = []\n",
    "finish_dates_list = []\n",
    "objects_list = []\n",
    "prices_list = []\n",
    "\n",
    "procurements_status_dict = {}\n",
    "\n",
    "for i, url in enumerate(urls_list):\n",
    "    print(url, end=\" \")\n",
    "    # TODO: добавить try-except и цикл, чтобы несколько раз пытаться подключиться\n",
    "    page = requests.get(url) # отправляем запрос\n",
    "    print(page.status_code)\n",
    "    \n",
    "    procurements_status_dict[url] = page.status_code\n",
    "    \n",
    "    if page.status_code == HTTPStatus.OK: # если ссылка рабочая, код = 200\n",
    "        soup = BeautifulSoup(page.text, 'html.parser')\n",
    "    else:\n",
    "        print(\"Не удалось подключиться\", page.status_code)\n",
    "        continue\n",
    "        \n",
    "    # Ищем номера закупок\n",
    "    numbers = soup.find_all('div', class_='registry-entry__header-mid__number') # ищем номер заявки\n",
    "    if numbers:\n",
    "        numbers_list.append([number.text for number in numbers])\n",
    "    else:\n",
    "        numbers_list.append(np.nan)\n",
    "        \n",
    "    \n",
    "    # TODO: Добавить проверки, что у закупки есть все три даты \n",
    "    # TODO: Например, пропускать те закупки, где нет всех трех дат, проверку делать отдельно до сохранения в списки\n",
    "    dates = soup.find_all('div', class_='data-block__value') # ищем дату размещения\n",
    "    if dates:\n",
    "        placements_dates_list.append([dates[i].text for i in range(0, len(dates), 3)])\n",
    "        update_dates_list.append([dates[i].text for i in range(1, len(dates), 3)])\n",
    "        finish_dates_list.append([dates[i].text for i in range(2, len(dates), 3)])\n",
    "    else:\n",
    "        placements_dates_list.append(np.nan)\n",
    "        update_dates_list.append(np.nan)\n",
    "        finish_dates_list.append(np.nan)\n",
    "        \n",
    "    \n",
    "    objects = soup.find_all('div', class_='registry-entry__body-value') # ищем объекты закупок\n",
    "    if objects:\n",
    "        objects_list.append([object_.text for object_ in objects])\n",
    "    else:\n",
    "        objects_list.append(np.nan)\n",
    "    \n",
    "    prices = soup.find_all('div', class_='price-block__value') # ищем цены закупок\n",
    "    if prices:\n",
    "        prices_list.append([price.text for price in prices])\n",
    "    else:\n",
    "        prices_list.append(np.nan)\n",
    "\n",
    "    # TODO: менять паузу\n",
    "    time.sleep(2.0) # пауза для обхода блокировки "
   ]
  },
  {
   "cell_type": "code",
   "execution_count": null,
   "id": "9a153858",
   "metadata": {},
   "outputs": [],
   "source": [
    "import random\n",
    "\n",
    "random.random() * 2"
   ]
  },
  {
   "cell_type": "code",
   "execution_count": null,
   "id": "cc134145",
   "metadata": {},
   "outputs": [],
   "source": [
    "procurements_status_dict"
   ]
  },
  {
   "cell_type": "code",
   "execution_count": null,
   "id": "5aaa8cea",
   "metadata": {},
   "outputs": [],
   "source": [
    "prices_list"
   ]
  },
  {
   "cell_type": "code",
   "execution_count": null,
   "id": "74589d74",
   "metadata": {},
   "outputs": [],
   "source": [
    "prices_list[0][0]"
   ]
  },
  {
   "cell_type": "code",
   "execution_count": null,
   "id": "0053bf85",
   "metadata": {},
   "outputs": [],
   "source": [
    "type(prices_list[0][0])"
   ]
  },
  {
   "cell_type": "code",
   "execution_count": null,
   "id": "8920efda",
   "metadata": {},
   "outputs": [],
   "source": [
    "price_ = re.sub(\"[^0-9,₽]\", \"\", prices_list[0][0])"
   ]
  },
  {
   "cell_type": "code",
   "execution_count": null,
   "id": "7af00295",
   "metadata": {},
   "outputs": [],
   "source": [
    "type(price_)"
   ]
  },
  {
   "cell_type": "code",
   "execution_count": null,
   "id": "c9fb7164",
   "metadata": {},
   "outputs": [],
   "source": [
    "price_"
   ]
  },
  {
   "cell_type": "code",
   "execution_count": null,
   "id": "6b2b7859",
   "metadata": {},
   "outputs": [],
   "source": [
    "float(price_)"
   ]
  },
  {
   "cell_type": "code",
   "execution_count": null,
   "id": "3190bd83",
   "metadata": {},
   "outputs": [],
   "source": []
  },
  {
   "cell_type": "code",
   "execution_count": null,
   "id": "7c2d96f1",
   "metadata": {},
   "outputs": [],
   "source": [
    "price_ = re.sub(\"[^0-9,]\", \"\", prices_list[0][0])"
   ]
  },
  {
   "cell_type": "code",
   "execution_count": null,
   "id": "2dc533e5",
   "metadata": {},
   "outputs": [],
   "source": [
    "price_"
   ]
  },
  {
   "cell_type": "code",
   "execution_count": null,
   "id": "b0ab621b",
   "metadata": {},
   "outputs": [],
   "source": [
    "type(price_)"
   ]
  },
  {
   "cell_type": "code",
   "execution_count": null,
   "id": "044f9cf9",
   "metadata": {},
   "outputs": [],
   "source": [
    "price_.replace(',', '.')"
   ]
  },
  {
   "cell_type": "code",
   "execution_count": null,
   "id": "ab3f21b2",
   "metadata": {},
   "outputs": [],
   "source": [
    "float(price_.replace(',', '.'))"
   ]
  },
  {
   "cell_type": "code",
   "execution_count": null,
   "id": "386e6a6c",
   "metadata": {},
   "outputs": [],
   "source": [
    "price_float = float(price_.replace(',', '.'))"
   ]
  },
  {
   "cell_type": "code",
   "execution_count": null,
   "id": "8c597c3a",
   "metadata": {},
   "outputs": [],
   "source": [
    "type(price_float)"
   ]
  },
  {
   "cell_type": "code",
   "execution_count": null,
   "id": "efd0dd80",
   "metadata": {},
   "outputs": [],
   "source": [
    "price_float"
   ]
  },
  {
   "cell_type": "code",
   "execution_count": null,
   "id": "47d74133",
   "metadata": {},
   "outputs": [],
   "source": [
    "currency = prices_list[0][0].split()[-1]"
   ]
  },
  {
   "cell_type": "code",
   "execution_count": null,
   "id": "d1f26c6e",
   "metadata": {},
   "outputs": [],
   "source": [
    "currency"
   ]
  },
  {
   "cell_type": "code",
   "execution_count": null,
   "id": "3fa6cac2",
   "metadata": {},
   "outputs": [],
   "source": [
    "prices_list[0]"
   ]
  },
  {
   "cell_type": "code",
   "execution_count": null,
   "id": "6d1615a2",
   "metadata": {},
   "outputs": [],
   "source": []
  },
  {
   "cell_type": "code",
   "execution_count": null,
   "id": "47a865d5",
   "metadata": {},
   "outputs": [],
   "source": [
    "len(numbers_list[0])"
   ]
  },
  {
   "cell_type": "code",
   "execution_count": null,
   "id": "2e02cc40",
   "metadata": {},
   "outputs": [],
   "source": [
    "len(objects_list[0])"
   ]
  },
  {
   "cell_type": "markdown",
   "id": "f432fd6d",
   "metadata": {},
   "source": [
    "---"
   ]
  },
  {
   "cell_type": "code",
   "execution_count": null,
   "id": "6cdab285",
   "metadata": {},
   "outputs": [],
   "source": [
    "numbers_list[0][0]"
   ]
  },
  {
   "cell_type": "code",
   "execution_count": null,
   "id": "c4dc9576",
   "metadata": {},
   "outputs": [],
   "source": [
    "placements_dates_list[0][0]"
   ]
  },
  {
   "cell_type": "code",
   "execution_count": null,
   "id": "0dd456ec",
   "metadata": {},
   "outputs": [],
   "source": [
    "update_dates_list[0][0]"
   ]
  },
  {
   "cell_type": "code",
   "execution_count": null,
   "id": "547d33d9",
   "metadata": {},
   "outputs": [],
   "source": [
    "objects_list[0][0]"
   ]
  },
  {
   "cell_type": "code",
   "execution_count": null,
   "id": "c9270f4f",
   "metadata": {},
   "outputs": [],
   "source": [
    "prices_list[0][0]"
   ]
  },
  {
   "cell_type": "code",
   "execution_count": null,
   "id": "c5ef4ec6",
   "metadata": {},
   "outputs": [],
   "source": [
    "procurements = []\n",
    "\n",
    "# Проходим по всем страницам\n",
    "for numbers, placements_dates, update_dates, finish_dates, objects_, prices in zip(numbers_list, \n",
    "                                                                                    placements_dates_list,\n",
    "                                                                                    update_dates_list, \n",
    "                                                                                    finish_dates_list, \n",
    "                                                                                    objects_list, \n",
    "                                                                                    prices_list):\n",
    "    # Проходим по всем закупкам\n",
    "    for number, placements_date, update_date, finish_date, object_, price in zip(numbers, \n",
    "                                                                                 placements_dates, \n",
    "                                                                                 update_dates, \n",
    "                                                                                 finish_dates, \n",
    "                                                                                 objects_, \n",
    "                                                                                 prices ):\n",
    "        # TODO: сохранять валюту (единица измерения)                                                                       \n",
    "        procurements.append({\n",
    "            \"Номер закупки\": re.sub(\"[^0-9]\", \"\", number),\n",
    "            \"Дата размещения\": placements_date,\n",
    "            \"Дата обновления\": update_date,\n",
    "            \"Дата окончания\": finish_date,\n",
    "            \"Объект закупки\": object_,\n",
    "            \"Начальная цена\": re.sub(\"[^0-9,]\", \"\", price)\n",
    "        })"
   ]
  },
  {
   "cell_type": "code",
   "execution_count": null,
   "id": "589fc148",
   "metadata": {},
   "outputs": [],
   "source": [
    "procurements"
   ]
  },
  {
   "cell_type": "code",
   "execution_count": null,
   "id": "55281834",
   "metadata": {},
   "outputs": [],
   "source": [
    "df = pd.DataFrame(procurements)\n",
    "df.head()"
   ]
  },
  {
   "cell_type": "code",
   "execution_count": null,
   "id": "eb66a854",
   "metadata": {},
   "outputs": [],
   "source": [
    "df.to_csv(\"gov2.csv\", encoding=\"utf-8\")"
   ]
  },
  {
   "cell_type": "code",
   "execution_count": null,
   "id": "01ec9f02",
   "metadata": {},
   "outputs": [],
   "source": []
  }
 ],
 "metadata": {
  "kernelspec": {
   "display_name": "Python 3 (ipykernel)",
   "language": "python",
   "name": "python3"
  },
  "language_info": {
   "codemirror_mode": {
    "name": "ipython",
    "version": 3
   },
   "file_extension": ".py",
   "mimetype": "text/x-python",
   "name": "python",
   "nbconvert_exporter": "python",
   "pygments_lexer": "ipython3",
   "version": "3.8.12"
  }
 },
 "nbformat": 4,
 "nbformat_minor": 5
}
